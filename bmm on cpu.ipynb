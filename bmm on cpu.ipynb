{
 "cells": [
  {
   "cell_type": "code",
   "execution_count": 16,
   "id": "001f45c1-dea5-4b8c-994a-e69314337151",
   "metadata": {
    "tags": []
   },
   "outputs": [],
   "source": [
    "import torch \n",
    "from torch.profiler import profile, record_function, ProfilerActivity\n",
    "a = torch.ones(10,100,10)\n",
    "b = torch.ones(10,10,10)"
   ]
  },
  {
   "cell_type": "code",
   "execution_count": 17,
   "id": "12a10cfd-3a9a-4f8b-9311-fb6aa3545a7c",
   "metadata": {
    "tags": []
   },
   "outputs": [
    {
     "name": "stderr",
     "output_type": "stream",
     "text": [
      "STAGE:2023-11-22 03:33:26 74653:74653 ActivityProfilerController.cpp:312] Completed Stage: Warm Up\n",
      "STAGE:2023-11-22 03:33:26 74653:74653 ActivityProfilerController.cpp:318] Completed Stage: Collection\n",
      "STAGE:2023-11-22 03:33:26 74653:74653 ActivityProfilerController.cpp:322] Completed Stage: Post Processing\n"
     ]
    }
   ],
   "source": [
    "with profile(activities=[ProfilerActivity.CPU], record_shapes=True, profile_memory=True) as prof:\n",
    "    # with record_function(\"model_inference\"):\n",
    "    torch.bmm(a, b)"
   ]
  },
  {
   "cell_type": "code",
   "execution_count": 18,
   "id": "db9852c9-c7d5-4dac-b760-43c0bce03cc3",
   "metadata": {
    "tags": []
   },
   "outputs": [
    {
     "name": "stdout",
     "output_type": "stream",
     "text": [
      "----------------------  ------------  ------------  ------------  ------------  ------------  ------------  ------------  ------------  \n",
      "                  Name    Self CPU %      Self CPU   CPU total %     CPU total  CPU time avg       CPU Mem  Self CPU Mem    # of Calls  \n",
      "----------------------  ------------  ------------  ------------  ------------  ------------  ------------  ------------  ------------  \n",
      "             aten::bmm        99.72%     361.000us       100.00%     362.000us     362.000us      39.06 Kb      39.06 Kb             1  \n",
      "    aten::resolve_conj         0.28%       1.000us         0.28%       1.000us       0.500us           0 b           0 b             2  \n",
      "              [memory]         0.00%       0.000us         0.00%       0.000us       0.000us     -39.06 Kb     -39.06 Kb             1  \n",
      "----------------------  ------------  ------------  ------------  ------------  ------------  ------------  ------------  ------------  \n",
      "Self CPU time total: 362.000us\n",
      "\n"
     ]
    }
   ],
   "source": [
    "print(prof.key_averages().table(sort_by=\"cpu_time_total\", row_limit=10))"
   ]
  },
  {
   "cell_type": "code",
   "execution_count": 19,
   "id": "eae4553e-20f7-44c2-834e-81c35fa23bd0",
   "metadata": {
    "tags": []
   },
   "outputs": [],
   "source": [
    "a = torch.ones(10,100,10, dtype=torch.bfloat16)\n",
    "b = torch.ones(10,10,10, dtype=torch.bfloat16)"
   ]
  },
  {
   "cell_type": "code",
   "execution_count": 20,
   "id": "912403f0-c031-42ab-baa1-5a7b5335d27d",
   "metadata": {
    "tags": []
   },
   "outputs": [
    {
     "name": "stderr",
     "output_type": "stream",
     "text": [
      "STAGE:2023-11-22 03:33:31 74653:74653 ActivityProfilerController.cpp:312] Completed Stage: Warm Up\n",
      "STAGE:2023-11-22 03:33:31 74653:74653 ActivityProfilerController.cpp:318] Completed Stage: Collection\n",
      "STAGE:2023-11-22 03:33:31 74653:74653 ActivityProfilerController.cpp:322] Completed Stage: Post Processing\n"
     ]
    }
   ],
   "source": [
    "with profile(activities=[ProfilerActivity.CPU], record_shapes=True, profile_memory=True) as prof:\n",
    "    # with record_function(\"model_inference\"):\n",
    "    torch.bmm(a, b)"
   ]
  },
  {
   "cell_type": "code",
   "execution_count": 21,
   "id": "d6a1f8fa-6eb4-4a30-96da-6ca3618770b0",
   "metadata": {
    "tags": []
   },
   "outputs": [
    {
     "name": "stdout",
     "output_type": "stream",
     "text": [
      "----------------------  ------------  ------------  ------------  ------------  ------------  ------------  ------------  ------------  \n",
      "                  Name    Self CPU %      Self CPU   CPU total %     CPU total  CPU time avg       CPU Mem  Self CPU Mem    # of Calls  \n",
      "----------------------  ------------  ------------  ------------  ------------  ------------  ------------  ------------  ------------  \n",
      "             aten::bmm        99.91%       1.110ms       100.00%       1.111ms       1.111ms      19.53 Kb      19.53 Kb             1  \n",
      "    aten::resolve_conj         0.09%       1.000us         0.09%       1.000us       0.500us           0 b           0 b             2  \n",
      "              [memory]         0.00%       0.000us         0.00%       0.000us       0.000us     -19.53 Kb     -19.53 Kb             1  \n",
      "----------------------  ------------  ------------  ------------  ------------  ------------  ------------  ------------  ------------  \n",
      "Self CPU time total: 1.111ms\n",
      "\n"
     ]
    }
   ],
   "source": [
    "print(prof.key_averages().table(sort_by=\"cpu_time_total\", row_limit=10))"
   ]
  },
  {
   "cell_type": "code",
   "execution_count": null,
   "id": "1ecf4f8a-695e-452b-ac22-81e93a288b2e",
   "metadata": {},
   "outputs": [],
   "source": []
  }
 ],
 "metadata": {
  "kernelspec": {
   "display_name": "conda_pytorch_p39",
   "language": "python",
   "name": "conda_pytorch_p39"
  },
  "language_info": {
   "codemirror_mode": {
    "name": "ipython",
    "version": 3
   },
   "file_extension": ".py",
   "mimetype": "text/x-python",
   "name": "python",
   "nbconvert_exporter": "python",
   "pygments_lexer": "ipython3",
   "version": "3.9.15"
  }
 },
 "nbformat": 4,
 "nbformat_minor": 5
}
